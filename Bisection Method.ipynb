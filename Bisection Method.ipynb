{
 "cells": [
  {
   "cell_type": "code",
   "execution_count": 2,
   "metadata": {},
   "outputs": [
    {
     "name": "stdout",
     "output_type": "stream",
     "text": [
      "Initial Setup Complete\n"
     ]
    }
   ],
   "source": [
    "from IPython.display import display, Math, Latex\n",
    "from sympy import *\n",
    "init_printing()\n",
    "from __future__ import division\n",
    "import numpy as np\n",
    "\n",
    "print('Initial Setup Complete')"
   ]
  },
  {
   "cell_type": "code",
   "execution_count": 3,
   "metadata": {},
   "outputs": [
    {
     "name": "stdout",
     "output_type": "stream",
     "text": [
      "        \n",
      "        Syntax Constraints - \n",
      "        \n",
      "        x**y means x raised to the power of y\n",
      "        \n",
      "        Function must be algebraic combination of one or more of - \n",
      "        \n",
      "        exp(x)      Returns e**x\n",
      "        log2(x)     Returns the base-2 logarithm of x\n",
      "        log10(x)    Returns the base-10 logarithm of x\n",
      "        acos(x)     Returns the arc cosine of x\n",
      "        asin(x)     Returns the arc sine of x\n",
      "        atan(x)     Returns the arc tangent of x\n",
      "        cos(x)      Returns the cosine of x\n",
      "        sin(x)      Returns the sine of x\n",
      "        tan(x)      Returns the tangent of x\n",
      "        acosh(x)    Returns the inverse hyperbolic cosine of x\n",
      "        asinh(x)    Returns the inverse hyperbolic sine of x\n",
      "        atanh(x)    Returns the inverse hyperbolic tangent of x\n",
      "        cosh(x)     Returns the hyperbolic cosine of x\n",
      "        sinh(x)     Returns the hyperbolic cosine of x\n",
      "        tanh(x)     Returns the hyperbolic tangent of x\n",
      "        gamma(x)    Returns the Gamma function at x\n",
      "        lgamma(x)   Returns the natural logarithm of the absolute value of the Gamma function at x\n",
      "        pi          Mathematical constant 3.14159...\n",
      "        e           Mathematical constant e (2.71828...)\n",
      "         \n",
      "        \n",
      "        \n"
     ]
    }
   ],
   "source": [
    "x = Symbol('x')\n",
    "print(\"\"\"        \n",
    "        Syntax Constraints for entering function - \n",
    "        \n",
    "        x**y means x raised to the power of y\n",
    "        \n",
    "        Function must be algebraic combination of one or more of - \n",
    "        \n",
    "        exp(x)      Returns e**x\n",
    "        log2(x)     Returns the base-2 logarithm of x\n",
    "        log10(x)    Returns the base-10 logarithm of x\n",
    "        acos(x)     Returns the arc cosine of x\n",
    "        asin(x)     Returns the arc sine of x\n",
    "        atan(x)     Returns the arc tangent of x\n",
    "        cos(x)      Returns the cosine of x\n",
    "        sin(x)      Returns the sine of x\n",
    "        tan(x)      Returns the tangent of x\n",
    "        acosh(x)    Returns the inverse hyperbolic cosine of x\n",
    "        asinh(x)    Returns the inverse hyperbolic sine of x\n",
    "        atanh(x)    Returns the inverse hyperbolic tangent of x\n",
    "        cosh(x)     Returns the hyperbolic cosine of x\n",
    "        sinh(x)     Returns the hyperbolic cosine of x\n",
    "        tanh(x)     Returns the hyperbolic tangent of x\n",
    "        gamma(x)    Returns the Gamma function at x\n",
    "        lgamma(x)   Returns the natural logarithm of the absolute value of the Gamma function at x\n",
    "        pi          Mathematical constant 3.14159...\n",
    "        e           Mathematical constant e (2.71828...)\n",
    "         \n",
    "        \n",
    "        \"\"\")"
   ]
  },
  {
   "cell_type": "code",
   "execution_count": 14,
   "metadata": {},
   "outputs": [
    {
     "name": "stdout",
     "output_type": "stream",
     "text": [
      "Enter a function :  x\n",
      "This is the function : \n"
     ]
    },
    {
     "data": {
      "image/png": "[encoded data removed]",
      "text/latex": [
       "$$0.9$$"
      ],
      "text/plain": [
       "0.9"
      ]
     },
     "execution_count": 14,
     "metadata": {},
     "output_type": "execute_result"
    }
   ],
   "source": [
    "#example s is given\n",
    "#s = '-2*((-x+1/x)/(x*(x-1/x)**2)-1/(x*(x-1/x)))'\n",
    "s=raw_input(\"Enter a function :  \").strip()\n",
    "expression=sympify(s)\n",
    "print \"This is the function : \"\n",
    "print expression\n",
    "\n",
    "#will lambdify expression for fast parrallel computation at random points\n",
    "f = lambdify(x, expression, \"numpy\")\n",
    "f(0.9)"
   ]
  },
  {
   "cell_type": "code",
   "execution_count": 18,
   "metadata": {},
   "outputs": [
    {
     "name": "stdout",
     "output_type": "stream",
     "text": [
      "Enter 1 if you will enter Initial Estimates a,b.\n",
      "Enter 2 for program to guess initial estimates.\n",
      "1\n",
      "Enter a,b : 12 123\n",
      "Try Again : Your approximations a,b give f(a)*f(b)>0\n",
      "Enter a,b : -1 1\n"
     ]
    }
   ],
   "source": [
    "print \"Enter 1 if you will enter Initial Estimates a,b.\"\n",
    "print \"Enter 2 for program to guess initial estimates.\"\n",
    "ch = input()\n",
    "if ch==1:\n",
    "    got=0\n",
    "    while(got==0):\n",
    "        a, b = map(int, raw_input(\"Enter a,b : \").split())\n",
    "        if (f(a)*f(b)<0):\n",
    "            got=1\n",
    "        elif (f(a)*f(b)>0):\n",
    "            print \"Try Again : Your approximations a,b give f(a)*f(b)>0\"\n",
    "else:\n",
    "    found_ab = 0\n",
    "    rnge = 1\n",
    "    nm_trials = rnge*100\n",
    "    print \"Guessing Initial Estimates a,b\"\n",
    "    while(found_ab==0):\n",
    "        print \"Trying \"+ str(nm_trials)+ \" random numbers from uniform continuous distribution in range [-\" +str(rnge)+\",\" +str(rnge)+\"]\"\n",
    "        trial_points = np.random.uniform(low=-1*rnge, high=rnge, size=nm_trials)\n",
    "        #print trial_points\n",
    "        evaluations = f(trial_points)\n",
    "        #print evaluations\n",
    "        prob_pos = np.argmax(evaluations)\n",
    "        prob_neg = np.argmin(evaluations)\n",
    "        if evaluations[prob_pos]>0 and evaluations[prob_neg]<0 :\n",
    "            a,b = min(trial_points[prob_pos],trial_points[prob_neg]),max(trial_points[prob_pos],trial_points[prob_neg])\n",
    "            print \"    FOUND\"\n",
    "            found_ab=1\n",
    "        else :\n",
    "            print \"    failed\"\n",
    "            rnge = rnge*5\n",
    "            nm_trials = rnge*100\n",
    "        \n",
    "        "
   ]
  },
  {
   "cell_type": "code",
   "execution_count": 16,
   "metadata": {},
   "outputs": [
    {
     "name": "stdout",
     "output_type": "stream",
     "text": [
      "Enter error tolerance : 01\n",
      "Starting Bisection Process\n",
      "    a , b =  -0.9806388629511662 , 0.983905762491601\n",
      "    f(a) , f(b) =  -0.9806388629511662 , 0.983905762491601\n"
     ]
    }
   ],
   "source": [
    "err = input(\"Enter error tolerance : \")\n",
    "print \"Starting Bisection Process\"\n",
    "print \"    a , b = \",a,\",\",b\n",
    "print \"    f(a) , f(b) = \",f(a),\",\",f(b)"
   ]
  },
  {
   "cell_type": "code",
   "execution_count": 17,
   "metadata": {},
   "outputs": [
    {
     "name": "stdout",
     "output_type": "stream",
     "text": [
      "Iteration No.  1 : \n",
      "    a , b =  -0.9806388629511662 , 0.001633449770217399\n",
      "    f(a) , f(b) =  -0.9806388629511662 , 0.001633449770217399\n",
      "Root Approximated within error range.\n",
      "Number of Iterations =  1\n",
      "    Root =  -0.4895027065904744\n",
      "    f(Root) =  -0.4895027065904744\n"
     ]
    }
   ],
   "source": [
    "iter_count = 0\n",
    "exact_root_found =0\n",
    "root = 0\n",
    "while (abs(b-a) > err):\n",
    "    iter_count = iter_count + 1\n",
    "    print \"Iteration No. \", iter_count, \": \"\n",
    "    m = (b+a)/2.0\n",
    "    m_val = f(m)\n",
    "    if m_val==0:\n",
    "        print \"Exact Root found\"\n",
    "        root = m\n",
    "        exact_root_found =1\n",
    "        break\n",
    "    elif m_val*f(a)<0:\n",
    "        a,b = min(m,a),max(m,a)\n",
    "    else:\n",
    "        a,b=  min(m,b),max(m,b)\n",
    "    print \"    a , b = \",a,\",\",b\n",
    "    print \"    f(a) , f(b) = \",f(a),\",\",f(b)\n",
    "    \n",
    "if exact_root_found==0:\n",
    "    print \"Root Approximated within error range.\"\n",
    "    root = (a+b)/2.0\n",
    "print \"Number of Iterations = \",iter_count\n",
    "print \"    Root = \",root\n",
    "print \"    f(Root) = \",f(root)"
   ]
  },
  {
   "cell_type": "code",
   "execution_count": null,
   "metadata": {},
   "outputs": [],
   "source": []
  }
 ],
 "metadata": {
  "kernelspec": {
   "display_name": "Python 2",
   "language": "python",
   "name": "python2"
  },
  "language_info": {
   "codemirror_mode": {
    "name": "ipython",
    "version": 2
   },
   "file_extension": ".py",
   "mimetype": "text/x-python",
   "name": "python",
   "nbconvert_exporter": "python",
   "pygments_lexer": "ipython2",
   "version": "2.7.15"
  }
 },
 "nbformat": 4,
 "nbformat_minor": 2
}

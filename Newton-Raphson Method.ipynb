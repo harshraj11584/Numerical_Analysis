{
 "cells": [
  {
   "cell_type": "code",
   "execution_count": 1,
   "metadata": {},
   "outputs": [
    {
     "name": "stdout",
     "output_type": "stream",
     "text": [
      "Initial Setup Complete\n",
      "        \n",
      "        Syntax Constraints for entering function - \n",
      "        \n",
      "        x**y means x raised to the power of y\n",
      "        \n",
      "        Function must be algebraic combination of one or more of - \n",
      "        \n",
      "        exp(x)      Returns e**x\n",
      "        log2(x)     Returns the base-2 logarithm of x\n",
      "        log10(x)    Returns the base-10 logarithm of x\n",
      "        acos(x)     Returns the arc cosine of x\n",
      "        asin(x)     Returns the arc sine of x\n",
      "        atan(x)     Returns the arc tangent of x\n",
      "        cos(x)      Returns the cosine of x\n",
      "        sin(x)      Returns the sine of x\n",
      "        tan(x)      Returns the tangent of x\n",
      "        acosh(x)    Returns the inverse hyperbolic cosine of x\n",
      "        asinh(x)    Returns the inverse hyperbolic sine of x\n",
      "        atanh(x)    Returns the inverse hyperbolic tangent of x\n",
      "        cosh(x)     Returns the hyperbolic cosine of x\n",
      "        sinh(x)     Returns the hyperbolic cosine of x\n",
      "        tanh(x)     Returns the hyperbolic tangent of x\n",
      "        gamma(x)    Returns the Gamma function at x\n",
      "        lgamma(x)   Returns the natural logarithm of the absolute value of the Gamma function at x\n",
      "        pi          Mathematical constant 3.14159...\n",
      "        e           Mathematical constant e (2.71828...)\n",
      "         \n",
      "        \n",
      "        \n",
      "Enter a function :  x**2 - 20\n",
      "This is the function : \n",
      "x**2 - 20\n"
     ]
    },
    {
     "data": {
      "image/png": "[encoded data removed]",
      "text/latex": [
       "$$-19.19$$"
      ],
      "text/plain": [
       "-19.19"
      ]
     },
     "execution_count": 1,
     "metadata": {},
     "output_type": "execute_result"
    }
   ],
   "source": [
    "from IPython.display import display, Math, Latex\n",
    "from sympy import *\n",
    "init_printing()\n",
    "from __future__ import division\n",
    "import numpy as np\n",
    "print('Initial Setup Complete')\n",
    "\n",
    "\n",
    "x = Symbol('x')\n",
    "print(\"\"\"        \n",
    "        Syntax Constraints for entering function - \n",
    "        \n",
    "        x**y means x raised to the power of y\n",
    "        \n",
    "        Function must be algebraic combination of one or more of - \n",
    "        \n",
    "        exp(x)      Returns e**x\n",
    "        log2(x)     Returns the base-2 logarithm of x\n",
    "        log10(x)    Returns the base-10 logarithm of x\n",
    "        acos(x)     Returns the arc cosine of x\n",
    "        asin(x)     Returns the arc sine of x\n",
    "        atan(x)     Returns the arc tangent of x\n",
    "        cos(x)      Returns the cosine of x\n",
    "        sin(x)      Returns the sine of x\n",
    "        tan(x)      Returns the tangent of x\n",
    "        acosh(x)    Returns the inverse hyperbolic cosine of x\n",
    "        asinh(x)    Returns the inverse hyperbolic sine of x\n",
    "        atanh(x)    Returns the inverse hyperbolic tangent of x\n",
    "        cosh(x)     Returns the hyperbolic cosine of x\n",
    "        sinh(x)     Returns the hyperbolic cosine of x\n",
    "        tanh(x)     Returns the hyperbolic tangent of x\n",
    "        gamma(x)    Returns the Gamma function at x\n",
    "        lgamma(x)   Returns the natural logarithm of the absolute value of the Gamma function at x\n",
    "        pi          Mathematical constant 3.14159...\n",
    "        e           Mathematical constant e (2.71828...)\n",
    "         \n",
    "        \n",
    "        \"\"\")\n",
    "\n",
    "#example s is given\n",
    "#s = '-2*((-x+1/x)/(x*(x-1/x)**2)-1/(x*(x-1/x)))'\n",
    "s=raw_input(\"Enter a function :  \").strip()\n",
    "expression=sympify(s)\n",
    "print \"This is the function : \"\n",
    "print expression\n",
    "\n",
    "#will lambdify expression for fast parrallel computation at random points\n",
    "f = lambdify(x, expression, \"numpy\")\n",
    "f(0.9)"
   ]
  },
  {
   "cell_type": "code",
   "execution_count": 20,
   "metadata": {},
   "outputs": [
    {
     "name": "stdout",
     "output_type": "stream",
     "text": [
      "Starting Newton-Raphson Method\n",
      "df(x)/dx =  2*x\n",
      "Enter initial approximation: 1\n",
      "Enter error tolerance : 0.1\n",
      "    x0 =  1\n",
      "    f(x0) =  -19\n"
     ]
    }
   ],
   "source": [
    "\n",
    "#see the dfferentiation of the function\n",
    "print \"Starting Newton-Raphson Method\"\n",
    "f_dash = diff(expression,x)\n",
    "print \"df(x)/dx = \" , f_dash\n",
    "a = input(\"Enter initial approximation: \")\n",
    "err = input(\"Enter error tolerance : \")\n",
    "print \"    x0 = \",a\n",
    "print \"    f(x0) = \",f(a)"
   ]
  },
  {
   "cell_type": "code",
   "execution_count": 21,
   "metadata": {},
   "outputs": [
    {
     "name": "stdout",
     "output_type": "stream",
     "text": [
      "Iteration No.  1 : \n",
      "    x1 =  1\n",
      "    f(x1) =  -19\n",
      "Iteration No.  2 : \n",
      "    x2 =  10.5\n",
      "    f(x2) =  90.25\n",
      "Iteration No.  3 : \n",
      "    x3 =  6.20238095238\n",
      "    f(x3) =  18.4695294785\n",
      "Iteration No.  4 : \n",
      "    x4 =  4.71347454529\n",
      "    f(x4) =  2.21684228908\n",
      "Iteration No.  5 : \n",
      "Root Approximated within error range.\n",
      "Number of Iterations =  5\n",
      "    Root =  4.47214021707\n",
      "    f(Root) =  3.81210964377e-05\n"
     ]
    }
   ],
   "source": [
    "iter_count = 0\n",
    "exact_root_found =0\n",
    "not_converging = 0\n",
    "root=a\n",
    "\n",
    "while (True):\n",
    "    iter_count = iter_count + 1\n",
    "    print \"Iteration No. \", iter_count, \": \"\n",
    "    \n",
    "    xk=root\n",
    "    fk = f(xk)    \n",
    "    #this is the expression for f_dash\n",
    "    \n",
    "    fk_dash= (lambdify(x , f_dash , \"numpy\"))(xk)\n",
    "    \n",
    "    if fk_dash ==0:\n",
    "        not_converging =1\n",
    "        print \"Not Converging\"\n",
    "        break;\n",
    "    else:\n",
    "        root = xk - fk/fk_dash\n",
    "        if f(root)==0:\n",
    "            exact_root_found=1\n",
    "            print \"Exact Root Found\"\n",
    "            break;\n",
    "        elif abs(root-xk)<err:\n",
    "            break;\n",
    "    \n",
    "    \n",
    "    \n",
    "    print \"    x\"+str(iter_count)+\" = \",xk\n",
    "    print \"    f(x\"+str(iter_count)+\") = \",f(xk)\n",
    "\n",
    "if not_converging == 0 and exact_root_found==0:\n",
    "    print \"Root Approximated within error range.\"\n",
    "if not_converging ==0:\n",
    "    print \"Number of Iterations = \",iter_count\n",
    "    print \"    Root = \",root\n",
    "    print \"    f(Root) = \",f(root)"
   ]
  },
  {
   "cell_type": "code",
   "execution_count": null,
   "metadata": {},
   "outputs": [],
   "source": []
  }
 ],
 "metadata": {
  "kernelspec": {
   "display_name": "Python 2",
   "language": "python",
   "name": "python2"
  },
  "language_info": {
   "codemirror_mode": {
    "name": "ipython",
    "version": 2
   },
   "file_extension": ".py",
   "mimetype": "text/x-python",
   "name": "python",
   "nbconvert_exporter": "python",
   "pygments_lexer": "ipython2",
   "version": "2.7.15"
  }
 },
 "nbformat": 4,
 "nbformat_minor": 2
}

{
 "cells": [
  {
   "cell_type": "code",
   "execution_count": 25,
   "metadata": {},
   "outputs": [
    {
     "name": "stdout",
     "output_type": "stream",
     "text": [
      "Initial Setup Complete\n",
      "        \n",
      "        Syntax Constraints for entering function - \n",
      "        \n",
      "        x**y means x raised to the power of y\n",
      "        \n",
      "        Function must be algebraic combination of one or more of - \n",
      "        \n",
      "        exp(x)      Returns e**x\n",
      "        log2(x)     Returns the base-2 logarithm of x\n",
      "        log10(x)    Returns the base-10 logarithm of x\n",
      "        acos(x)     Returns the arc cosine of x\n",
      "        asin(x)     Returns the arc sine of x\n",
      "        atan(x)     Returns the arc tangent of x\n",
      "        cos(x)      Returns the cosine of x\n",
      "        sin(x)      Returns the sine of x\n",
      "        tan(x)      Returns the tangent of x\n",
      "        acosh(x)    Returns the inverse hyperbolic cosine of x\n",
      "        asinh(x)    Returns the inverse hyperbolic sine of x\n",
      "        atanh(x)    Returns the inverse hyperbolic tangent of x\n",
      "        cosh(x)     Returns the hyperbolic cosine of x\n",
      "        sinh(x)     Returns the hyperbolic cosine of x\n",
      "        tanh(x)     Returns the hyperbolic tangent of x\n",
      "        gamma(x)    Returns the Gamma function at x\n",
      "        lgamma(x)   Returns the natural logarithm of the absolute value of the Gamma function at x\n",
      "        pi          Mathematical constant 3.14159...\n",
      "        e           Mathematical constant e (2.71828...)\n",
      "         \n",
      "        \n",
      "        \n",
      "Enter a function :  x**2-20\n",
      "This is the function : \n",
      "x**2 - 20\n"
     ]
    },
    {
     "data": {
      "image/png": "[encoded data removed]",
      "text/latex": [
       "$$-19.19$$"
      ],
      "text/plain": [
       "-19.19"
      ]
     },
     "execution_count": 25,
     "metadata": {},
     "output_type": "execute_result"
    }
   ],
   "source": [
    "from IPython.display import display, Math, Latex\n",
    "from sympy import *\n",
    "init_printing()\n",
    "from __future__ import division\n",
    "import numpy as np\n",
    "print('Initial Setup Complete')\n",
    "\n",
    "\n",
    "x = Symbol('x')\n",
    "print(\"\"\"        \n",
    "        Syntax Constraints for entering function - \n",
    "        \n",
    "        x**y means x raised to the power of y\n",
    "        \n",
    "        Function must be algebraic combination of one or more of - \n",
    "        \n",
    "        exp(x)      Returns e**x\n",
    "        log2(x)     Returns the base-2 logarithm of x\n",
    "        log10(x)    Returns the base-10 logarithm of x\n",
    "        acos(x)     Returns the arc cosine of x\n",
    "        asin(x)     Returns the arc sine of x\n",
    "        atan(x)     Returns the arc tangent of x\n",
    "        cos(x)      Returns the cosine of x\n",
    "        sin(x)      Returns the sine of x\n",
    "        tan(x)      Returns the tangent of x\n",
    "        acosh(x)    Returns the inverse hyperbolic cosine of x\n",
    "        asinh(x)    Returns the inverse hyperbolic sine of x\n",
    "        atanh(x)    Returns the inverse hyperbolic tangent of x\n",
    "        cosh(x)     Returns the hyperbolic cosine of x\n",
    "        sinh(x)     Returns the hyperbolic cosine of x\n",
    "        tanh(x)     Returns the hyperbolic tangent of x\n",
    "        gamma(x)    Returns the Gamma function at x\n",
    "        lgamma(x)   Returns the natural logarithm of the absolute value of the Gamma function at x\n",
    "        pi          Mathematical constant 3.14159...\n",
    "        e           Mathematical constant e (2.71828...)\n",
    "         \n",
    "        \n",
    "        \"\"\")\n",
    "\n",
    "#example s is given\n",
    "#s = '-2*((-x+1/x)/(x*(x-1/x)**2)-1/(x*(x-1/x)))'\n",
    "s=raw_input(\"Enter a function :  \").strip()\n",
    "expression=sympify(s)\n",
    "print \"This is the function : \"\n",
    "print expression\n",
    "\n",
    "#will lambdify expression for fast parrallel computation at random points\n",
    "f = lambdify(x, expression, \"numpy\")\n",
    "f(0.9)"
   ]
  },
  {
   "cell_type": "code",
   "execution_count": 28,
   "metadata": {},
   "outputs": [
    {
     "name": "stdout",
     "output_type": "stream",
     "text": [
      "Enter 2 approximations a,b : 4 5\n",
      "Enter error tolerance : 0.0000000001\n",
      "Starting Secant Method\n",
      "    a , b =  4 , 5\n",
      "    f(a) , f(b) =  -4 , 5\n"
     ]
    }
   ],
   "source": [
    "a, b = map(int, raw_input(\"Enter 2 approximations a,b : \").split())\n",
    "err = input(\"Enter error tolerance : \")\n",
    "print \"Starting Secant Method\"\n",
    "print \"    a , b = \",a,\",\",b\n",
    "print \"    f(a) , f(b) = \",f(a),\",\",f(b)"
   ]
  },
  {
   "cell_type": "code",
   "execution_count": 29,
   "metadata": {},
   "outputs": [
    {
     "name": "stdout",
     "output_type": "stream",
     "text": [
      "Iteration No.  1 : \n",
      "    a , b =  5 , 4.44444444444\n",
      "    f(a) , f(b) =  5 , -0.246913580247\n",
      "Iteration No.  2 : \n",
      "    a , b =  4.44444444444 , 4.47058823529\n",
      "    f(a) , f(b) =  -0.246913580247 , -0.0138408304498\n",
      "Iteration No.  3 : \n",
      "    a , b =  4.47058823529 , 4.47214076246\n",
      "    f(a) , f(b) =  -0.0138408304498 , 4.29992862152e-05\n",
      "Iteration No.  4 : \n",
      "    a , b =  4.47214076246 , 4.47213595417\n",
      "    f(a) , f(b) =  4.29992862152e-05 , -7.44188710655e-09\n",
      "Iteration No.  5 : \n",
      "    a , b =  4.47213595417 , 4.472135955\n",
      "    f(a) , f(b) =  -7.44188710655e-09 , -7.1054273576e-15\n",
      "Iteration No.  6 : \n",
      "    a , b =  4.472135955 , 4.472135955\n",
      "    f(a) , f(b) =  -7.1054273576e-15 , 3.5527136788e-15\n",
      "Root Approximated within error range.\n",
      "Number of Iterations =  6\n",
      "    Root =  4.472135955\n",
      "    f(Root) =  3.5527136788e-15\n"
     ]
    }
   ],
   "source": [
    "iter_count = 0\n",
    "exact_root_found =0\n",
    "not_converging = 0\n",
    "root = 0\n",
    "a,b = min(a,b) , max(a,b)\n",
    "while (abs(b-a) > err):\n",
    "    iter_count = iter_count + 1\n",
    "    print \"Iteration No. \", iter_count, \": \"\n",
    "    \n",
    "    if f(b)-f(a)==0:\n",
    "        print \"    Not Converging\"\n",
    "        not_converging = 1\n",
    "        break\n",
    "    x_ = b - ((b-a)/(f(b)-f(a)))*f(b)\n",
    "    \n",
    "    x_val = f(x_)\n",
    "    if x_val==0:\n",
    "        print \"    Exact Root found\"\n",
    "        root = x_\n",
    "        exact_root_found =1\n",
    "        break\n",
    "    else:\n",
    "        a,b = b , x_\n",
    "    print \"    a , b = \",a,\",\",b\n",
    "    print \"    f(a) , f(b) = \",f(a),\",\",x_val\n",
    "\n",
    "if not_converging == 0 and exact_root_found==0:\n",
    "    print \"Root Approximated within error range.\"\n",
    "    root = b\n",
    "if not_converging ==0:\n",
    "    print \"Number of Iterations = \",iter_count\n",
    "    print \"    Root = \",root\n",
    "    print \"    f(Root) = \",f(root)"
   ]
  },
  {
   "cell_type": "code",
   "execution_count": null,
   "metadata": {},
   "outputs": [],
   "source": []
  }
 ],
 "metadata": {
  "kernelspec": {
   "display_name": "Python 2",
   "language": "python",
   "name": "python2"
  },
  "language_info": {
   "codemirror_mode": {
    "name": "ipython",
    "version": 2
   },
   "file_extension": ".py",
   "mimetype": "text/x-python",
   "name": "python",
   "nbconvert_exporter": "python",
   "pygments_lexer": "ipython2",
   "version": "2.7.15"
  }
 },
 "nbformat": 4,
 "nbformat_minor": 2
}

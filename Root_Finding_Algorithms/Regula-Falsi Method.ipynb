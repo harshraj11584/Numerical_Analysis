{
 "cells": [
  {
   "cell_type": "code",
   "execution_count": 1,
   "metadata": {},
   "outputs": [
    {
     "name": "stdout",
     "output_type": "stream",
     "text": [
      "Initial Setup Complete\n",
      "        \n",
      "        Syntax Constraints for entering function - \n",
      "        \n",
      "        x**y means x raised to the power of y\n",
      "        \n",
      "        Function must be algebraic combination of one or more of - \n",
      "        \n",
      "        exp(x)      Returns e**x\n",
      "        log2(x)     Returns the base-2 logarithm of x\n",
      "        log10(x)    Returns the base-10 logarithm of x\n",
      "        acos(x)     Returns the arc cosine of x\n",
      "        asin(x)     Returns the arc sine of x\n",
      "        atan(x)     Returns the arc tangent of x\n",
      "        cos(x)      Returns the cosine of x\n",
      "        sin(x)      Returns the sine of x\n",
      "        tan(x)      Returns the tangent of x\n",
      "        acosh(x)    Returns the inverse hyperbolic cosine of x\n",
      "        asinh(x)    Returns the inverse hyperbolic sine of x\n",
      "        atanh(x)    Returns the inverse hyperbolic tangent of x\n",
      "        cosh(x)     Returns the hyperbolic cosine of x\n",
      "        sinh(x)     Returns the hyperbolic cosine of x\n",
      "        tanh(x)     Returns the hyperbolic tangent of x\n",
      "        gamma(x)    Returns the Gamma function at x\n",
      "        lgamma(x)   Returns the natural logarithm of the absolute value of the Gamma function at x\n",
      "        pi          Mathematical constant 3.14159...\n",
      "        e           Mathematical constant e (2.71828...)\n",
      "         \n",
      "        \n",
      "        \n",
      "Enter a function :  x**2 - 20\n",
      "This is the function : \n",
      "x**2 - 20\n"
     ]
    },
    {
     "data": {
      "image/png": "[encoded data removed]",
      "text/latex": [
       "$$-19.19$$"
      ],
      "text/plain": [
       "-19.19"
      ]
     },
     "execution_count": 1,
     "metadata": {},
     "output_type": "execute_result"
    }
   ],
   "source": [
    "from IPython.display import display, Math, Latex\n",
    "from sympy import *\n",
    "init_printing()\n",
    "from __future__ import division\n",
    "import numpy as np\n",
    "print('Initial Setup Complete')\n",
    "\n",
    "\n",
    "x = Symbol('x')\n",
    "print(\"\"\"        \n",
    "        Syntax Constraints for entering function - \n",
    "        \n",
    "        x**y means x raised to the power of y\n",
    "        \n",
    "        Function must be algebraic combination of one or more of - \n",
    "        \n",
    "        exp(x)      Returns e**x\n",
    "        log2(x)     Returns the base-2 logarithm of x\n",
    "        log10(x)    Returns the base-10 logarithm of x\n",
    "        acos(x)     Returns the arc cosine of x\n",
    "        asin(x)     Returns the arc sine of x\n",
    "        atan(x)     Returns the arc tangent of x\n",
    "        cos(x)      Returns the cosine of x\n",
    "        sin(x)      Returns the sine of x\n",
    "        tan(x)      Returns the tangent of x\n",
    "        acosh(x)    Returns the inverse hyperbolic cosine of x\n",
    "        asinh(x)    Returns the inverse hyperbolic sine of x\n",
    "        atanh(x)    Returns the inverse hyperbolic tangent of x\n",
    "        cosh(x)     Returns the hyperbolic cosine of x\n",
    "        sinh(x)     Returns the hyperbolic cosine of x\n",
    "        tanh(x)     Returns the hyperbolic tangent of x\n",
    "        gamma(x)    Returns the Gamma function at x\n",
    "        lgamma(x)   Returns the natural logarithm of the absolute value of the Gamma function at x\n",
    "        pi          Mathematical constant 3.14159...\n",
    "        e           Mathematical constant e (2.71828...)\n",
    "         \n",
    "        \n",
    "        \"\"\")\n",
    "\n",
    "#example s is given\n",
    "#s = '-2*((-x+1/x)/(x*(x-1/x)**2)-1/(x*(x-1/x)))'\n",
    "s=raw_input(\"Enter a function :  \").strip()\n",
    "expression=sympify(s)\n",
    "print \"This is the function : \"\n",
    "print expression\n",
    "\n",
    "#will lambdify expression for fast parrallel computation at random points\n",
    "f = lambdify(x, expression, \"numpy\")\n",
    "f(0.9)"
   ]
  },
  {
   "cell_type": "code",
   "execution_count": 3,
   "metadata": {},
   "outputs": [
    {
     "name": "stdout",
     "output_type": "stream",
     "text": [
      " Enter 1 if you will enter Initial Estimates a,b.\n",
      "Enter 2 for program to guess initial estimates.\n",
      "2\n",
      "Guessing Initial Estimates a,b\n",
      "Trying 100 random numbers from uniform continuous distribution in range [-1,1]\n",
      "    failed\n",
      "Trying 500 random numbers from uniform continuous distribution in range [-5,5]\n",
      "    FOUND\n"
     ]
    }
   ],
   "source": [
    "print \"Enter 1 if you will enter Initial Estimates a,b.\"\n",
    "print \"Enter 2 for program to guess initial estimates.\"\n",
    "ch = input()\n",
    "if ch==1:\n",
    "    got=0\n",
    "    while(got==0):\n",
    "        a, b = map(int, raw_input(\"Enter a,b : \").split())\n",
    "        if (f(a)*f(b)<0):\n",
    "            got=1\n",
    "        elif (f(a)*f(b)>0):\n",
    "            print \"Try Again : Your approximations a,b give f(a)*f(b)>0\"\n",
    "else:\n",
    "    found_ab = 0\n",
    "    rnge = 1\n",
    "    nm_trials = rnge*100\n",
    "    print \"Guessing Initial Estimates a,b\"\n",
    "    while(found_ab==0):\n",
    "        print \"Trying \"+ str(nm_trials)+ \" random numbers from uniform continuous distribution in range [-\" +str(rnge)+\",\" +str(rnge)+\"]\"\n",
    "        trial_points = np.random.uniform(low=-1*rnge, high=rnge, size=nm_trials)\n",
    "        #print trial_points\n",
    "        evaluations = f(trial_points)\n",
    "        #print evaluations\n",
    "        prob_pos = np.argmax(evaluations)\n",
    "        prob_neg = np.argmin(evaluations)\n",
    "        if evaluations[prob_pos]>0 and evaluations[prob_neg]<0 :\n",
    "            a,b = min(trial_points[prob_pos],trial_points[prob_neg]),max(trial_points[prob_pos],trial_points[prob_neg])\n",
    "            print \"    FOUND\"\n",
    "            found_ab=1\n",
    "        else :\n",
    "            print \"    failed\"\n",
    "            rnge = rnge*5\n",
    "            nm_trials = rnge*100"
   ]
  },
  {
   "cell_type": "code",
   "execution_count": 4,
   "metadata": {},
   "outputs": [
    {
     "name": "stdout",
     "output_type": "stream",
     "text": [
      "Enter error tolerance : 0.0001\n",
      "Starting Regula-Falsi Method\n",
      "    a , b =  -4.999946960486352 , -0.01347131190996187\n",
      "    f(a) , f(b) =  4.999469607676712 , -19.999818523755426\n"
     ]
    }
   ],
   "source": [
    "err = input(\"Enter error tolerance : \")\n",
    "print \"Starting Regula-Falsi Method\"\n",
    "print \"    a , b = \",a,\",\",b\n",
    "print \"    f(a) , f(b) = \",f(a),\",\",f(b)"
   ]
  },
  {
   "cell_type": "code",
   "execution_count": 5,
   "metadata": {},
   "outputs": [
    {
     "name": "stdout",
     "output_type": "stream",
     "text": [
      "Iteration No.  1 : \n",
      "    a , b =  -4.999946960486352 , -4.002729226788848\n",
      "    f(a) , f(b) =  4.999469607676712 , -3.9781587370103537\n",
      "Iteration No.  2 : \n",
      "    a , b =  -4.999946960486352 , -4.444615467530602\n",
      "    f(a) , f(b) =  4.999469607676712 , -0.24539334578772554\n",
      "Iteration No.  3 : \n",
      "    a , b =  -4.999946960486352 , -4.470597967795493\n",
      "    f(a) , f(b) =  4.999469607676712 , -0.01375381034280565\n",
      "Iteration No.  4 : \n",
      "    a , b =  -4.999946960486352 , -4.4720502401248\n",
      "    f(a) , f(b) =  4.999469607676712 , -0.000766649799714969\n",
      "Iteration No.  5 : \n",
      "    a , b =  -4.999946960486352 , -4.47213117868332\n",
      "    f(a) , f(b) =  4.999469607676712 , -4.2720648540495176e-05\n",
      "Iteration No.  6 : \n",
      "    a , b =  -4.999946960486352 , -4.4721356888497175\n",
      "    f(a) , f(b) =  4.999469607676712 , -2.3805166620149976e-06\n",
      "Iteration No.  7 : \n",
      "    a , b =  -4.999946960486352 , -4.472135940168963\n",
      "    f(a) , f(b) =  4.999469607676712 , -1.3264906684185007e-07\n",
      "Iteration No.  8 : \n",
      "    a , b =  -4.999946960486352 , -4.472135954173176\n",
      "    f(a) , f(b) =  4.999469607676712 , -7.391577128146309e-09\n",
      "Iteration No.  9 : \n",
      "    a , b =  -4.999946960486352 , -4.472135954953529\n",
      "    f(a) , f(b) =  4.999469607676712 , -4.118838603517361e-10\n",
      "Iteration No.  10 : \n",
      "    a , b =  -4.999946960486352 , -4.472135954997014\n",
      "    f(a) , f(b) =  4.999469607676712 , -2.2946977651372436e-11\n",
      "Iteration No.  11 : \n",
      "    a , b =  -4.999946960486352 , -4.472135954999437\n",
      "    f(a) , f(b) =  4.999469607676712 , -1.2754242106893798e-12\n",
      "Iteration No.  12 : \n",
      "    a , b =  -4.999946960486352 , -4.472135954999572\n",
      "    f(a) , f(b) =  4.999469607676712 , -7.105427357601002e-14\n",
      "Iteration No.  13 : \n",
      "    a , b =  -4.999946960486352 , -4.472135954999579\n",
      "    f(a) , f(b) =  4.999469607676712 , -7.105427357601002e-15\n",
      "Iteration No.  14 : \n",
      "    a , b =  -4.47213595499958 , -4.472135954999579\n",
      "    f(a) , f(b) =  3.552713678800501e-15 , -7.105427357601002e-15\n",
      "Root Approximated within error range.\n",
      "Number of Iterations =  14\n",
      "    Root =  -4.472135954999579\n",
      "    f(Root) =  -7.105427357601002e-15\n"
     ]
    }
   ],
   "source": [
    "iter_count = 0\n",
    "exact_root_found =0\n",
    "not_converging = 0\n",
    "root = 0\n",
    "a,b = min(a,b) , max(a,b)\n",
    "while (abs(b-a) > err):\n",
    "    iter_count = iter_count + 1\n",
    "    print \"Iteration No. \", iter_count, \": \"\n",
    "    \n",
    "    if f(b)-f(a)==0:\n",
    "        print \"    Not Converging\"\n",
    "        not_converging = 1\n",
    "        break\n",
    "    x_ = b - ((b-a)/(f(b)-f(a)))*f(b)\n",
    "    \n",
    "    x_val = f(x_)\n",
    "    if x_val==0:\n",
    "        print \"    Exact Root found\"\n",
    "        root = x_\n",
    "        exact_root_found =1\n",
    "        break\n",
    "    else:\n",
    "        if x_val*f(a)<0:\n",
    "            a,b = a,x_\n",
    "        if x_val*f(b)<0:\n",
    "            a,b = x_,b\n",
    "    print \"    a , b = \",a,\",\",b\n",
    "    print \"    f(a) , f(b) = \",f(a),\",\",f(b)\n",
    "\n",
    "if not_converging == 0 and exact_root_found==0:\n",
    "    print \"Root Approximated within error range.\"\n",
    "    root = b\n",
    "if not_converging ==0:\n",
    "    print \"Number of Iterations = \",iter_count\n",
    "    print \"    Root = \",root\n",
    "    print \"    f(Root) = \",f(root)"
   ]
  },
  {
   "cell_type": "code",
   "execution_count": null,
   "metadata": {},
   "outputs": [],
   "source": []
  }
 ],
 "metadata": {
  "kernelspec": {
   "display_name": "Python 2",
   "language": "python",
   "name": "python2"
  },
  "language_info": {
   "codemirror_mode": {
    "name": "ipython",
    "version": 2
   },
   "file_extension": ".py",
   "mimetype": "text/x-python",
   "name": "python",
   "nbconvert_exporter": "python",
   "pygments_lexer": "ipython2",
   "version": "2.7.15"
  }
 },
 "nbformat": 4,
 "nbformat_minor": 2
}
